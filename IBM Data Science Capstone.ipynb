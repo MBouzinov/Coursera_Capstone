{
 "cells": [
  {
   "cell_type": "markdown",
   "metadata": {},
   "source": [
    "# Business Problem\n",
    "A restauranteur wants to open up a new restaurant in Toronto.  His food is very Asian-inspired and he wants to open a restaurant that serves either Korean, Japanese, or Chinese food.  He isn't sure which restaurant would have the highest chance of success so he has hired a consultancy to analyze the distribution of different types of restaurants in Toronto to help him answer two questions:\n",
    "\n",
    "**1:** Should the restaurant serve Koren, Japanese, or Chinese food?\n",
    "\n",
    "**2:** In what part of Toronto should the restaurant be opened?\n",
    "\n",
    "In order to solve the restauranteur's problem, I will be using Foursquare location data to find how many other Korean, Japanese, or Chinese restaurants there are in Toronto.  I will then analyze the location data to find an area that is very easily accessible by public transportation so that the restaurant will be easy to get to for potential customers.  If I am able to obtain a robust dataset about Toronto's public transportation, I will try to recommend a location that is not just close to any public transportation stops, but one that is close to very popular/heavily-used public transportation lines."
   ]
  },
  {
   "cell_type": "code",
   "execution_count": null,
   "metadata": {},
   "outputs": [],
   "source": []
  }
 ],
 "metadata": {
  "kernelspec": {
   "display_name": "Python 3",
   "language": "python",
   "name": "python3"
  },
  "language_info": {
   "codemirror_mode": {
    "name": "ipython",
    "version": 3
   },
   "file_extension": ".py",
   "mimetype": "text/x-python",
   "name": "python",
   "nbconvert_exporter": "python",
   "pygments_lexer": "ipython3",
   "version": "3.7.3"
  }
 },
 "nbformat": 4,
 "nbformat_minor": 2
}
